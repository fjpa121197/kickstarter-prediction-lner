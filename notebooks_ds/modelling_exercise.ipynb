{
  "cells": [
    {
      "cell_type": "code",
      "execution_count": 1,
      "metadata": {
        "id": "_pfyaL-5DxgO"
      },
      "outputs": [],
      "source": [
        "# Importing modules\n",
        "import pandas as pd\n",
        "import numpy as np\n",
        "import tensorflow as tf\n",
        "from sklearn.model_selection import train_test_split"
      ]
    },
    {
      "cell_type": "code",
      "execution_count": 2,
      "metadata": {
        "id": "zxFHHaIXEAxR"
      },
      "outputs": [],
      "source": [
        "train_test_df = pd.read_csv('../data/kickstarter_train_test_onehot.csv', index_col='ID')\n",
        "y_col = 'usd_smooth_pledged_per_day'"
      ]
    },
    {
      "cell_type": "code",
      "execution_count": 3,
      "metadata": {},
      "outputs": [
        {
          "data": {
            "text/plain": [
              "(367479, 221)"
            ]
          },
          "execution_count": 3,
          "metadata": {},
          "output_type": "execute_result"
        }
      ],
      "source": [
        "train_test_df.shape"
      ]
    },
    {
      "cell_type": "code",
      "execution_count": 4,
      "metadata": {
        "colab": {
          "base_uri": "https://localhost:8080/",
          "height": 411
        },
        "id": "pKICuPTTEGpo",
        "outputId": "c5858a6e-a5da-4cc3-d840-d932cefa4385"
      },
      "outputs": [
        {
          "data": {
            "text/html": [
              "<div>\n",
              "<style scoped>\n",
              "    .dataframe tbody tr th:only-of-type {\n",
              "        vertical-align: middle;\n",
              "    }\n",
              "\n",
              "    .dataframe tbody tr th {\n",
              "        vertical-align: top;\n",
              "    }\n",
              "\n",
              "    .dataframe thead th {\n",
              "        text-align: right;\n",
              "    }\n",
              "</style>\n",
              "<table border=\"1\" class=\"dataframe\">\n",
              "  <thead>\n",
              "    <tr style=\"text-align: right;\">\n",
              "      <th></th>\n",
              "      <th>total_campaign_days</th>\n",
              "      <th>usd_smooth_pledged_per_day</th>\n",
              "      <th>backers_per_day</th>\n",
              "      <th>usd_goal_per_day</th>\n",
              "      <th>category_3D Printing</th>\n",
              "      <th>category_Academic</th>\n",
              "      <th>category_Accessories</th>\n",
              "      <th>category_Action</th>\n",
              "      <th>category_Animals</th>\n",
              "      <th>category_Animation</th>\n",
              "      <th>...</th>\n",
              "      <th>main_category_Fashion</th>\n",
              "      <th>main_category_Film &amp; Video</th>\n",
              "      <th>main_category_Food</th>\n",
              "      <th>main_category_Games</th>\n",
              "      <th>main_category_Journalism</th>\n",
              "      <th>main_category_Music</th>\n",
              "      <th>main_category_Photography</th>\n",
              "      <th>main_category_Publishing</th>\n",
              "      <th>main_category_Technology</th>\n",
              "      <th>main_category_Theater</th>\n",
              "    </tr>\n",
              "  </thead>\n",
              "  <tbody>\n",
              "    <tr>\n",
              "      <th>count</th>\n",
              "      <td>367479.000000</td>\n",
              "      <td>367479.000000</td>\n",
              "      <td>367479.000000</td>\n",
              "      <td>3.674790e+05</td>\n",
              "      <td>367479.000000</td>\n",
              "      <td>367479.000000</td>\n",
              "      <td>367479.000000</td>\n",
              "      <td>367479.000000</td>\n",
              "      <td>367479.000000</td>\n",
              "      <td>367479.000000</td>\n",
              "      <td>...</td>\n",
              "      <td>367479.000000</td>\n",
              "      <td>367479.000000</td>\n",
              "      <td>367479.000000</td>\n",
              "      <td>367479.000000</td>\n",
              "      <td>367479.000000</td>\n",
              "      <td>367479.000000</td>\n",
              "      <td>367479.000000</td>\n",
              "      <td>367479.000000</td>\n",
              "      <td>367479.000000</td>\n",
              "      <td>367479.000000</td>\n",
              "    </tr>\n",
              "    <tr>\n",
              "      <th>mean</th>\n",
              "      <td>33.848405</td>\n",
              "      <td>288.569479</td>\n",
              "      <td>3.537995</td>\n",
              "      <td>2.223188e+03</td>\n",
              "      <td>0.001788</td>\n",
              "      <td>0.002406</td>\n",
              "      <td>0.008330</td>\n",
              "      <td>0.001987</td>\n",
              "      <td>0.000683</td>\n",
              "      <td>0.006830</td>\n",
              "      <td>...</td>\n",
              "      <td>0.060588</td>\n",
              "      <td>0.168475</td>\n",
              "      <td>0.065348</td>\n",
              "      <td>0.093788</td>\n",
              "      <td>0.012692</td>\n",
              "      <td>0.132984</td>\n",
              "      <td>0.028900</td>\n",
              "      <td>0.104814</td>\n",
              "      <td>0.086280</td>\n",
              "      <td>0.029281</td>\n",
              "    </tr>\n",
              "    <tr>\n",
              "      <th>std</th>\n",
              "      <td>62.320518</td>\n",
              "      <td>2776.055681</td>\n",
              "      <td>29.533812</td>\n",
              "      <td>4.819463e+05</td>\n",
              "      <td>0.042245</td>\n",
              "      <td>0.048988</td>\n",
              "      <td>0.090887</td>\n",
              "      <td>0.044526</td>\n",
              "      <td>0.026126</td>\n",
              "      <td>0.082363</td>\n",
              "      <td>...</td>\n",
              "      <td>0.238574</td>\n",
              "      <td>0.374288</td>\n",
              "      <td>0.247139</td>\n",
              "      <td>0.291533</td>\n",
              "      <td>0.111941</td>\n",
              "      <td>0.339558</td>\n",
              "      <td>0.167525</td>\n",
              "      <td>0.306314</td>\n",
              "      <td>0.280777</td>\n",
              "      <td>0.168592</td>\n",
              "    </tr>\n",
              "    <tr>\n",
              "      <th>min</th>\n",
              "      <td>0.005058</td>\n",
              "      <td>0.000000</td>\n",
              "      <td>0.000000</td>\n",
              "      <td>2.832798e-04</td>\n",
              "      <td>0.000000</td>\n",
              "      <td>0.000000</td>\n",
              "      <td>0.000000</td>\n",
              "      <td>0.000000</td>\n",
              "      <td>0.000000</td>\n",
              "      <td>0.000000</td>\n",
              "      <td>...</td>\n",
              "      <td>0.000000</td>\n",
              "      <td>0.000000</td>\n",
              "      <td>0.000000</td>\n",
              "      <td>0.000000</td>\n",
              "      <td>0.000000</td>\n",
              "      <td>0.000000</td>\n",
              "      <td>0.000000</td>\n",
              "      <td>0.000000</td>\n",
              "      <td>0.000000</td>\n",
              "      <td>0.000000</td>\n",
              "    </tr>\n",
              "    <tr>\n",
              "      <th>25%</th>\n",
              "      <td>29.096435</td>\n",
              "      <td>1.000267</td>\n",
              "      <td>0.056904</td>\n",
              "      <td>6.709133e+01</td>\n",
              "      <td>0.000000</td>\n",
              "      <td>0.000000</td>\n",
              "      <td>0.000000</td>\n",
              "      <td>0.000000</td>\n",
              "      <td>0.000000</td>\n",
              "      <td>0.000000</td>\n",
              "      <td>...</td>\n",
              "      <td>0.000000</td>\n",
              "      <td>0.000000</td>\n",
              "      <td>0.000000</td>\n",
              "      <td>0.000000</td>\n",
              "      <td>0.000000</td>\n",
              "      <td>0.000000</td>\n",
              "      <td>0.000000</td>\n",
              "      <td>0.000000</td>\n",
              "      <td>0.000000</td>\n",
              "      <td>0.000000</td>\n",
              "    </tr>\n",
              "    <tr>\n",
              "      <th>50%</th>\n",
              "      <td>29.683056</td>\n",
              "      <td>20.344683</td>\n",
              "      <td>0.393702</td>\n",
              "      <td>1.735213e+02</td>\n",
              "      <td>0.000000</td>\n",
              "      <td>0.000000</td>\n",
              "      <td>0.000000</td>\n",
              "      <td>0.000000</td>\n",
              "      <td>0.000000</td>\n",
              "      <td>0.000000</td>\n",
              "      <td>...</td>\n",
              "      <td>0.000000</td>\n",
              "      <td>0.000000</td>\n",
              "      <td>0.000000</td>\n",
              "      <td>0.000000</td>\n",
              "      <td>0.000000</td>\n",
              "      <td>0.000000</td>\n",
              "      <td>0.000000</td>\n",
              "      <td>0.000000</td>\n",
              "      <td>0.000000</td>\n",
              "      <td>0.000000</td>\n",
              "    </tr>\n",
              "    <tr>\n",
              "      <th>75%</th>\n",
              "      <td>36.331447</td>\n",
              "      <td>134.189167</td>\n",
              "      <td>1.910903</td>\n",
              "      <td>5.113791e+02</td>\n",
              "      <td>0.000000</td>\n",
              "      <td>0.000000</td>\n",
              "      <td>0.000000</td>\n",
              "      <td>0.000000</td>\n",
              "      <td>0.000000</td>\n",
              "      <td>0.000000</td>\n",
              "      <td>...</td>\n",
              "      <td>0.000000</td>\n",
              "      <td>0.000000</td>\n",
              "      <td>0.000000</td>\n",
              "      <td>0.000000</td>\n",
              "      <td>0.000000</td>\n",
              "      <td>0.000000</td>\n",
              "      <td>0.000000</td>\n",
              "      <td>0.000000</td>\n",
              "      <td>0.000000</td>\n",
              "      <td>0.000000</td>\n",
              "    </tr>\n",
              "    <tr>\n",
              "      <th>max</th>\n",
              "      <td>16738.958333</td>\n",
              "      <td>648896.545028</td>\n",
              "      <td>7262.353557</td>\n",
              "      <td>2.903031e+08</td>\n",
              "      <td>1.000000</td>\n",
              "      <td>1.000000</td>\n",
              "      <td>1.000000</td>\n",
              "      <td>1.000000</td>\n",
              "      <td>1.000000</td>\n",
              "      <td>1.000000</td>\n",
              "      <td>...</td>\n",
              "      <td>1.000000</td>\n",
              "      <td>1.000000</td>\n",
              "      <td>1.000000</td>\n",
              "      <td>1.000000</td>\n",
              "      <td>1.000000</td>\n",
              "      <td>1.000000</td>\n",
              "      <td>1.000000</td>\n",
              "      <td>1.000000</td>\n",
              "      <td>1.000000</td>\n",
              "      <td>1.000000</td>\n",
              "    </tr>\n",
              "  </tbody>\n",
              "</table>\n",
              "<p>8 rows × 221 columns</p>\n",
              "</div>"
            ],
            "text/plain": [
              "       total_campaign_days  usd_smooth_pledged_per_day  backers_per_day  \\\n",
              "count        367479.000000               367479.000000    367479.000000   \n",
              "mean             33.848405                  288.569479         3.537995   \n",
              "std              62.320518                 2776.055681        29.533812   \n",
              "min               0.005058                    0.000000         0.000000   \n",
              "25%              29.096435                    1.000267         0.056904   \n",
              "50%              29.683056                   20.344683         0.393702   \n",
              "75%              36.331447                  134.189167         1.910903   \n",
              "max           16738.958333               648896.545028      7262.353557   \n",
              "\n",
              "       usd_goal_per_day  category_3D Printing  category_Academic  \\\n",
              "count      3.674790e+05         367479.000000      367479.000000   \n",
              "mean       2.223188e+03              0.001788           0.002406   \n",
              "std        4.819463e+05              0.042245           0.048988   \n",
              "min        2.832798e-04              0.000000           0.000000   \n",
              "25%        6.709133e+01              0.000000           0.000000   \n",
              "50%        1.735213e+02              0.000000           0.000000   \n",
              "75%        5.113791e+02              0.000000           0.000000   \n",
              "max        2.903031e+08              1.000000           1.000000   \n",
              "\n",
              "       category_Accessories  category_Action  category_Animals  \\\n",
              "count         367479.000000    367479.000000     367479.000000   \n",
              "mean               0.008330         0.001987          0.000683   \n",
              "std                0.090887         0.044526          0.026126   \n",
              "min                0.000000         0.000000          0.000000   \n",
              "25%                0.000000         0.000000          0.000000   \n",
              "50%                0.000000         0.000000          0.000000   \n",
              "75%                0.000000         0.000000          0.000000   \n",
              "max                1.000000         1.000000          1.000000   \n",
              "\n",
              "       category_Animation  ...  main_category_Fashion  \\\n",
              "count       367479.000000  ...          367479.000000   \n",
              "mean             0.006830  ...               0.060588   \n",
              "std              0.082363  ...               0.238574   \n",
              "min              0.000000  ...               0.000000   \n",
              "25%              0.000000  ...               0.000000   \n",
              "50%              0.000000  ...               0.000000   \n",
              "75%              0.000000  ...               0.000000   \n",
              "max              1.000000  ...               1.000000   \n",
              "\n",
              "       main_category_Film & Video  main_category_Food  main_category_Games  \\\n",
              "count               367479.000000       367479.000000        367479.000000   \n",
              "mean                     0.168475            0.065348             0.093788   \n",
              "std                      0.374288            0.247139             0.291533   \n",
              "min                      0.000000            0.000000             0.000000   \n",
              "25%                      0.000000            0.000000             0.000000   \n",
              "50%                      0.000000            0.000000             0.000000   \n",
              "75%                      0.000000            0.000000             0.000000   \n",
              "max                      1.000000            1.000000             1.000000   \n",
              "\n",
              "       main_category_Journalism  main_category_Music  \\\n",
              "count             367479.000000        367479.000000   \n",
              "mean                   0.012692             0.132984   \n",
              "std                    0.111941             0.339558   \n",
              "min                    0.000000             0.000000   \n",
              "25%                    0.000000             0.000000   \n",
              "50%                    0.000000             0.000000   \n",
              "75%                    0.000000             0.000000   \n",
              "max                    1.000000             1.000000   \n",
              "\n",
              "       main_category_Photography  main_category_Publishing  \\\n",
              "count              367479.000000             367479.000000   \n",
              "mean                    0.028900                  0.104814   \n",
              "std                     0.167525                  0.306314   \n",
              "min                     0.000000                  0.000000   \n",
              "25%                     0.000000                  0.000000   \n",
              "50%                     0.000000                  0.000000   \n",
              "75%                     0.000000                  0.000000   \n",
              "max                     1.000000                  1.000000   \n",
              "\n",
              "       main_category_Technology  main_category_Theater  \n",
              "count             367479.000000          367479.000000  \n",
              "mean                   0.086280               0.029281  \n",
              "std                    0.280777               0.168592  \n",
              "min                    0.000000               0.000000  \n",
              "25%                    0.000000               0.000000  \n",
              "50%                    0.000000               0.000000  \n",
              "75%                    0.000000               0.000000  \n",
              "max                    1.000000               1.000000  \n",
              "\n",
              "[8 rows x 221 columns]"
            ]
          },
          "execution_count": 4,
          "metadata": {},
          "output_type": "execute_result"
        }
      ],
      "source": [
        "train_test_df.describe()"
      ]
    },
    {
      "cell_type": "code",
      "execution_count": 5,
      "metadata": {
        "id": "ivdF91W3GdZS"
      },
      "outputs": [],
      "source": [
        "# import tensorflow as tf - commenting because it has been already imported (need to remove)\n",
        "# import tensorflow_datasets as tfds - commenting because it is not used (need to remove)"
      ]
    },
    {
      "cell_type": "code",
      "execution_count": 6,
      "metadata": {
        "id": "nQyWtHRqHaFT"
      },
      "outputs": [],
      "source": [
        "# Note: Configurations like this can be included in a configuration file instead?\n",
        "test_size = 64000\n",
        "random_state = 212\n",
        "BATCH_SIZE = 256\n",
        "\n",
        "train_test_df = train_test_df.dropna(subset=[y_col])\n",
        "X = train_test_df.drop(y_col, axis=1)\n",
        "y = train_test_df[y_col]\n",
        "X_train, X_test, y_train, y_test = train_test_split(\n",
        "X, y, test_size=test_size, random_state=random_state)"
      ]
    },
    {
      "cell_type": "code",
      "execution_count": 7,
      "metadata": {},
      "outputs": [],
      "source": [
        "# sets seeds for base-python, numpy and tf so every run gets to the same results\n",
        "tf.keras.utils.set_random_seed(42)  \n",
        "tf.config.experimental.enable_op_determinism()"
      ]
    },
    {
      "cell_type": "code",
      "execution_count": 8,
      "metadata": {
        "id": "5UsjVvoLH_n_"
      },
      "outputs": [],
      "source": [
        "def get_basic_model():\n",
        "  model = tf.keras.Sequential([\n",
        "    tf.keras.layers.Dense(256, activation='tanh'),\n",
        "    tf.keras.layers.Dense(256, activation='tanh'),\n",
        "    tf.keras.layers.Dense(1)\n",
        "  ])\n",
        "\n",
        "  model.compile(optimizer='adam',\n",
        "                loss=tf.keras.losses.MeanSquaredError(),\n",
        "                metrics=[tf.keras.metrics.MeanSquaredError()])\n",
        "  return model"
      ]
    },
    {
      "cell_type": "code",
      "execution_count": 9,
      "metadata": {
        "colab": {
          "base_uri": "https://localhost:8080/"
        },
        "id": "7YbYwdgFJR_M",
        "outputId": "e310081e-b2da-4802-b1e0-d47085a524ef"
      },
      "outputs": [
        {
          "name": "stderr",
          "output_type": "stream",
          "text": [
            "c:\\Users\\franc\\anaconda3\\envs\\lner-prediction-explore\\lib\\site-packages\\keras\\engine\\data_adapter.py:1700: FutureWarning: The behavior of `series[i:j]` with an integer-dtype index is deprecated. In a future version, this will be treated as *label-based* indexing, consistent with e.g. `series[i]` lookups. To retain the old behavior, use `series.iloc[i:j]`. To get the future behavior, use `series.loc[i:j]`.\n",
            "  return t[start:end]\n"
          ]
        },
        {
          "name": "stdout",
          "output_type": "stream",
          "text": [
            "Epoch 1/15\n",
            "1067/1067 [==============================] - 3s 2ms/step - loss: 5941196.0000 - mean_squared_error: 5941196.0000 - val_loss: 8418400.0000 - val_mean_squared_error: 8418400.0000\n",
            "Epoch 2/15\n",
            "1067/1067 [==============================] - 3s 3ms/step - loss: 5856667.5000 - mean_squared_error: 5856667.5000 - val_loss: 8341505.0000 - val_mean_squared_error: 8341505.0000\n",
            "Epoch 3/15\n",
            "1067/1067 [==============================] - 3s 3ms/step - loss: 5789737.0000 - mean_squared_error: 5789737.0000 - val_loss: 8267250.0000 - val_mean_squared_error: 8267250.0000\n",
            "Epoch 4/15\n",
            "1067/1067 [==============================] - 3s 2ms/step - loss: 5733759.0000 - mean_squared_error: 5733759.0000 - val_loss: 8202374.0000 - val_mean_squared_error: 8202374.0000\n",
            "Epoch 5/15\n",
            "1067/1067 [==============================] - 3s 2ms/step - loss: 5676716.0000 - mean_squared_error: 5676716.0000 - val_loss: 8146204.0000 - val_mean_squared_error: 8146204.0000\n",
            "Epoch 6/15\n",
            "1067/1067 [==============================] - 3s 2ms/step - loss: 5627580.5000 - mean_squared_error: 5627580.5000 - val_loss: 8092989.5000 - val_mean_squared_error: 8092989.5000\n",
            "Epoch 7/15\n",
            "1067/1067 [==============================] - 3s 2ms/step - loss: 5583018.0000 - mean_squared_error: 5583018.0000 - val_loss: 8046997.5000 - val_mean_squared_error: 8046997.5000\n",
            "Epoch 8/15\n",
            "1067/1067 [==============================] - 3s 2ms/step - loss: 5540643.5000 - mean_squared_error: 5540643.5000 - val_loss: 8046759.0000 - val_mean_squared_error: 8046759.0000\n",
            "Epoch 9/15\n",
            "1067/1067 [==============================] - 3s 2ms/step - loss: 5503789.5000 - mean_squared_error: 5503789.5000 - val_loss: 7975394.0000 - val_mean_squared_error: 7975394.0000\n",
            "Epoch 10/15\n",
            "1067/1067 [==============================] - 2s 2ms/step - loss: 5476805.0000 - mean_squared_error: 5476805.0000 - val_loss: 7921211.0000 - val_mean_squared_error: 7921211.0000\n",
            "Epoch 11/15\n",
            "1067/1067 [==============================] - 3s 2ms/step - loss: 5441685.0000 - mean_squared_error: 5441685.0000 - val_loss: 7964310.5000 - val_mean_squared_error: 7964310.5000\n",
            "Epoch 12/15\n",
            "1067/1067 [==============================] - 3s 3ms/step - loss: 5418726.0000 - mean_squared_error: 5418726.0000 - val_loss: 7863406.5000 - val_mean_squared_error: 7863406.5000\n",
            "Epoch 13/15\n",
            "1067/1067 [==============================] - 3s 2ms/step - loss: 5391274.0000 - mean_squared_error: 5391274.0000 - val_loss: 7840727.0000 - val_mean_squared_error: 7840727.0000\n",
            "Epoch 14/15\n",
            "1067/1067 [==============================] - 3s 3ms/step - loss: 5349979.0000 - mean_squared_error: 5349979.0000 - val_loss: 7776368.0000 - val_mean_squared_error: 7776368.0000\n",
            "Epoch 15/15\n",
            "1067/1067 [==============================] - 3s 2ms/step - loss: 5312966.0000 - mean_squared_error: 5312966.0000 - val_loss: 7740831.0000 - val_mean_squared_error: 7740831.0000\n"
          ]
        },
        {
          "data": {
            "text/plain": [
              "<keras.callbacks.History at 0x1af5a381af0>"
            ]
          },
          "execution_count": 9,
          "metadata": {},
          "output_type": "execute_result"
        }
      ],
      "source": [
        "model = get_basic_model()\n",
        "model.fit(X_train, y_train, epochs=15, batch_size=BATCH_SIZE, validation_split=0.1)"
      ]
    },
    {
      "cell_type": "code",
      "execution_count": 10,
      "metadata": {
        "colab": {
          "base_uri": "https://localhost:8080/"
        },
        "id": "1lU7eXC1M5T_",
        "outputId": "8865768f-d36a-4402-abe6-cc76c9861c9e"
      },
      "outputs": [
        {
          "name": "stdout",
          "output_type": "stream",
          "text": [
            "2000/2000 [==============================] - 3s 2ms/step\n"
          ]
        }
      ],
      "source": [
        "y_predict = model.predict(X_test)"
      ]
    },
    {
      "cell_type": "code",
      "execution_count": 11,
      "metadata": {
        "id": "8yVg3HEBNDPn"
      },
      "outputs": [],
      "source": [
        "model.save('model_1.h5')"
      ]
    },
    {
      "cell_type": "code",
      "execution_count": null,
      "metadata": {},
      "outputs": [],
      "source": []
    }
  ],
  "metadata": {
    "colab": {
      "provenance": []
    },
    "kernelspec": {
      "display_name": "Python 3",
      "name": "python3"
    },
    "language_info": {
      "codemirror_mode": {
        "name": "ipython",
        "version": 3
      },
      "file_extension": ".py",
      "mimetype": "text/x-python",
      "name": "python",
      "nbconvert_exporter": "python",
      "pygments_lexer": "ipython3",
      "version": "3.8.16"
    }
  },
  "nbformat": 4,
  "nbformat_minor": 0
}
